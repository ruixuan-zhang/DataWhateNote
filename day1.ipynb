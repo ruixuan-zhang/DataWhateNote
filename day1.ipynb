{
 "cells": [
  {
   "cell_type": "markdown",
   "metadata": {},
   "source": [
    "##  数据描述\n",
    "\n",
    "- uuid: 样本的 id\n",
    "- eid : 访问行为 id\n",
    "- udmap : 行为属性，为字典 {\"key3\":\"67804\"} 可能为 unknown, 或多个 key-value pair\n",
    "- common_ts : 访问记录发生的事件 (毫秒)\n",
    "- x1-x8 : 用户相关的属性\n",
    "- target: 预测目标 0 / 1\n",
    "\n"
   ]
  },
  {
   "cell_type": "markdown",
   "metadata": {},
   "source": [
    "## 一些笔记"
   ]
  },
  {
   "cell_type": "markdown",
   "metadata": {},
   "source": [
    "### udmap 的形状? \n",
    "\n",
    "udmap 返回字符串，既有可能是长度不定的字典（不知道有几个key），也有可能是单一一个 `unknown` 没有对应的 key value\n",
    "\n",
    "```{python}\n",
    "print(train_data['udmap'][0]) \n",
    "# '{\"key3\":\"67804\",\"key2\":\"650\"}'\n",
    "\n",
    "print(train_data['udmap'][3]) \n",
    "# 'unknown'\n",
    "```\n",
    "\n",
    "### 如何转变为 one-hot 编码类型?\n",
    "\n",
    "目标: 将这个 column 进行 one-hot 编码，如何进行?\n",
    "\n",
    "1. 有dict的转换为dict，在把key对应列，value对应cell的数值\n",
    "2. 没有dict的转换为0\n",
    "\n",
    "第一步：判定输入是否为 `unknown`，通过简单的　`if 'unknown' in {row}` 可以查看, TRUE 就返回 0 ，False 就再细看\n",
    "\n",
    "第二步：对字符串 `'{\"key3\":\"67804\",\"key2\":\"650\"}'` 进行处理\n",
    "\n",
    "1. 将字符串变为 dict ，示例用到的是 `eval` 他会返回字符串的表达内容。比如 `eval('2+2')` 返回 4，如果是 `print('2+2')` 返回的还是 '2+2' ，通过 `eval(train_data['udmap'][0])` 的方式将该字符串转为字典\n",
    "2. 提取对应的 key-value pair\n",
    "\n",
    "```{python}\n",
    "for key,value in eval(train_data['udmap'][0]).items():\n",
    "    print(key,value)\n",
    "\n",
    "# key3 67804\n",
    "# key2 650\n",
    "```\n",
    "\n",
    "以上，通过 for-loop 直接找 item 可以找到，但是并不是按我们想要的顺序, 可以通过\n",
    "\n",
    "```{python}\n",
    "d = eval(train_data['udmap'][0])\n",
    "for i in range(1,10): # i from 1 to 9\n",
    "    key = \"key\" + str(i) \n",
    "    # 创建 key -> 'key1' , 'key2', ...\n",
    "    # 如果 'key1' 这个字符串在这个字典里，就提取出来\n",
    "    if key in d:\n",
    "        # 此时 d[key] 为该 key 对应的 value\n",
    "        v[i-1] = d[key] # 将这个 value 赋值给对应的新的字典 v \n",
    "        # 反过来看，我们需要提前建立一个数组 v 按顺序接收对应的 value\n",
    "```\n",
    "\n",
    "改进版\n",
    "\n",
    "```{Python}\n",
    "d = eval(train_data['udmap'][0])\n",
    "v = np.zeros(9) # 建立一个长度为9，数值均为0的数组\n",
    "for i in range(1,10): # i from 1 to 9\n",
    "    key = \"key\" + str(i) \n",
    "    # 创建 key -> 'key1' , 'key2', ...\n",
    "    # 如果 'key1' 这个字符串在这个字典里，就提取出来\n",
    "    if key in d:\n",
    "        # 此时 d[key] 为该 key 对应的 value\n",
    "        v[i-1] = d[key] # 将这个 value 赋值给对应的新的数组 , 如果没有key对应就还是0\n",
    "\n",
    "```\n",
    "\n",
    "这样，上式就将 `{\"key3\":2222}` 转变为了 `[0, 0, 2222, 0, 0, 0, 0, ...]` 的数组\n",
    "\n",
    "**第三步**: 以上的每步都是基于行的操作，若想对整个dataframe 的行都进行如上操作\n",
    "\n",
    "笨办法是通过 for-loop 循环index，然后 iloc 找位置的方法；也可以用 `df.apply(func)` 的方法一步执行，非常好用\n",
    "\n",
    "**第四步**：对所有行都执行完会得到 n 维的数组，将这个 n 维数组一行一行累起来形成 dataframe 的操作？\n",
    "\n",
    "`pd.DataFrame(np.vstack(df.Series.apply(func)))`"
   ]
  },
  {
   "cell_type": "markdown",
   "metadata": {},
   "source": [
    "### 如何统计某一列的分布特征 (value_counts) 并将其 frequency 新增一列保存？\n",
    "\n",
    "1. 统计frequency\n",
    "2. 添加\n",
    "\n",
    "#### value_counts()\n",
    "\n",
    "`df.Series.value_counts()` 可以返回该 Series 对应的各个值的频率，通过 df.Series.map(df.Series.value_counts()) 可以得到对应的 freq\n",
    "\n",
    "比如 `train_data['eid'].value_counts()` 的第一个是 26， 对应 frequency 是 174811，想要新建一列 `eid_freq` ，在 eid 为 26 的行，其对应的 eid_freq 应为 174811 \n",
    "\n",
    "完成以上过程便可通过 `train_data['eid_freq'] = train_data['eid'].map(train_data['eid'].value_counts())` 实现\n",
    "\n",
    "#### map() 函数\n",
    "\n",
    "df.Series.map() 不仅可以接收 `value_counts()` 的结果，只要是 dictionary 也都能接收，此时 dictionary 的 key 应该和 `df.Series` 的值对应，dictionary 的 value 是新建列的数值\n",
    "\n"
   ]
  },
  {
   "cell_type": "markdown",
   "metadata": {},
   "source": [
    "### 新增 feature ，判断 udmap 是否为 unknown \n",
    "\n",
    "`train_data['udmap_isunknown'] = (train_data['udmap'] == 'unknown').astype(int)`\n",
    "\n",
    "将布尔序列 TRUE/FALSE转为1/0，TRUE就是1，FALSE就是0，如果是unknown就是1，不是就是0"
   ]
  },
  {
   "cell_type": "markdown",
   "metadata": {},
   "source": [
    "### 训练\n",
    "\n",
    "提取完特征之后就是基于 `sklearn.linear_model` 和 `sklearn.tree` 的 `DecisionTreeClassifier` 进行了训练\n",
    "\n",
    "```{python}\n",
    "clf = DecisionTreeClassifier()\n",
    "clf.fit(\n",
    "    train_data.drop(['udmap', 'common_ts', 'uuid', 'target'], axis=1),\n",
    "    train_data['target']\n",
    ")\n",
    "```"
   ]
  },
  {
   "cell_type": "markdown",
   "metadata": {},
   "source": [
    "## 可视化检查"
   ]
  },
  {
   "cell_type": "code",
   "execution_count": 118,
   "metadata": {},
   "outputs": [],
   "source": [
    "import pandas as pd\n",
    "import matplotlib.pyplot as plt\n",
    "import numpy as np\n",
    "import seaborn as sns"
   ]
  },
  {
   "cell_type": "code",
   "execution_count": 119,
   "metadata": {},
   "outputs": [
    {
     "data": {
      "text/html": [
       "<div>\n",
       "<style scoped>\n",
       "    .dataframe tbody tr th:only-of-type {\n",
       "        vertical-align: middle;\n",
       "    }\n",
       "\n",
       "    .dataframe tbody tr th {\n",
       "        vertical-align: top;\n",
       "    }\n",
       "\n",
       "    .dataframe thead th {\n",
       "        text-align: right;\n",
       "    }\n",
       "</style>\n",
       "<table border=\"1\" class=\"dataframe\">\n",
       "  <thead>\n",
       "    <tr style=\"text-align: right;\">\n",
       "      <th></th>\n",
       "      <th>uuid</th>\n",
       "      <th>eid</th>\n",
       "      <th>udmap</th>\n",
       "      <th>common_ts</th>\n",
       "      <th>x1</th>\n",
       "      <th>x2</th>\n",
       "      <th>x3</th>\n",
       "      <th>x4</th>\n",
       "      <th>x5</th>\n",
       "      <th>x6</th>\n",
       "      <th>x7</th>\n",
       "      <th>x8</th>\n",
       "      <th>target</th>\n",
       "    </tr>\n",
       "  </thead>\n",
       "  <tbody>\n",
       "    <tr>\n",
       "      <th>0</th>\n",
       "      <td>0</td>\n",
       "      <td>26</td>\n",
       "      <td>{\"key3\":\"67804\",\"key2\":\"650\"}</td>\n",
       "      <td>1689673468244</td>\n",
       "      <td>4</td>\n",
       "      <td>0</td>\n",
       "      <td>41</td>\n",
       "      <td>107</td>\n",
       "      <td>206</td>\n",
       "      <td>1</td>\n",
       "      <td>0</td>\n",
       "      <td>1</td>\n",
       "      <td>0</td>\n",
       "    </tr>\n",
       "    <tr>\n",
       "      <th>1</th>\n",
       "      <td>1</td>\n",
       "      <td>26</td>\n",
       "      <td>{\"key3\":\"67804\",\"key2\":\"484\"}</td>\n",
       "      <td>1689082941469</td>\n",
       "      <td>4</td>\n",
       "      <td>0</td>\n",
       "      <td>41</td>\n",
       "      <td>24</td>\n",
       "      <td>283</td>\n",
       "      <td>4</td>\n",
       "      <td>8</td>\n",
       "      <td>1</td>\n",
       "      <td>0</td>\n",
       "    </tr>\n",
       "    <tr>\n",
       "      <th>2</th>\n",
       "      <td>2</td>\n",
       "      <td>8</td>\n",
       "      <td>unknown</td>\n",
       "      <td>1689407393040</td>\n",
       "      <td>4</td>\n",
       "      <td>0</td>\n",
       "      <td>41</td>\n",
       "      <td>71</td>\n",
       "      <td>288</td>\n",
       "      <td>4</td>\n",
       "      <td>7</td>\n",
       "      <td>1</td>\n",
       "      <td>0</td>\n",
       "    </tr>\n",
       "    <tr>\n",
       "      <th>3</th>\n",
       "      <td>3</td>\n",
       "      <td>11</td>\n",
       "      <td>unknown</td>\n",
       "      <td>1689467815688</td>\n",
       "      <td>1</td>\n",
       "      <td>3</td>\n",
       "      <td>41</td>\n",
       "      <td>17</td>\n",
       "      <td>366</td>\n",
       "      <td>1</td>\n",
       "      <td>6</td>\n",
       "      <td>1</td>\n",
       "      <td>0</td>\n",
       "    </tr>\n",
       "    <tr>\n",
       "      <th>4</th>\n",
       "      <td>4</td>\n",
       "      <td>26</td>\n",
       "      <td>{\"key3\":\"67804\",\"key2\":\"650\"}</td>\n",
       "      <td>1689491751442</td>\n",
       "      <td>0</td>\n",
       "      <td>3</td>\n",
       "      <td>41</td>\n",
       "      <td>92</td>\n",
       "      <td>383</td>\n",
       "      <td>4</td>\n",
       "      <td>8</td>\n",
       "      <td>1</td>\n",
       "      <td>0</td>\n",
       "    </tr>\n",
       "  </tbody>\n",
       "</table>\n",
       "</div>"
      ],
      "text/plain": [
       "   uuid  eid                          udmap      common_ts  x1  x2  x3   x4  \\\n",
       "0     0   26  {\"key3\":\"67804\",\"key2\":\"650\"}  1689673468244   4   0  41  107   \n",
       "1     1   26  {\"key3\":\"67804\",\"key2\":\"484\"}  1689082941469   4   0  41   24   \n",
       "2     2    8                        unknown  1689407393040   4   0  41   71   \n",
       "3     3   11                        unknown  1689467815688   1   3  41   17   \n",
       "4     4   26  {\"key3\":\"67804\",\"key2\":\"650\"}  1689491751442   0   3  41   92   \n",
       "\n",
       "    x5  x6  x7  x8  target  \n",
       "0  206   1   0   1       0  \n",
       "1  283   4   8   1       0  \n",
       "2  288   4   7   1       0  \n",
       "3  366   1   6   1       0  \n",
       "4  383   4   8   1       0  "
      ]
     },
     "execution_count": 119,
     "metadata": {},
     "output_type": "execute_result"
    }
   ],
   "source": [
    "train_data = pd.read_csv(\"../data/用户新增预测挑战赛公开数据/train.csv\")\n",
    "test_data = pd.read_csv(\"../data/用户新增预测挑战赛公开数据/test.csv\")\n",
    "train_data.head()"
   ]
  },
  {
   "cell_type": "markdown",
   "metadata": {},
   "source": [
    "### Correlation between features"
   ]
  },
  {
   "cell_type": "code",
   "execution_count": null,
   "metadata": {},
   "outputs": [],
   "source": [
    "# 只有 numeric 的数据能够计算 correlation \n",
    "# 默认是 pearson correlation\n",
    "train_data.corr().abs()"
   ]
  },
  {
   "cell_type": "code",
   "execution_count": null,
   "metadata": {},
   "outputs": [],
   "source": [
    "sns.heatmap(train_data.corr().abs(), cmap='YlOrRd')\n",
    "\n",
    "# 以下几个pair之间似乎有相对高的相关性\n",
    "# eid 和 x7,8\n",
    "# common_ts 和 x6 \n",
    "# x7,x8 \n",
    "\n",
    "# 但是各个feature 和target 的关系可能不大"
   ]
  },
  {
   "cell_type": "code",
   "execution_count": 122,
   "metadata": {},
   "outputs": [
    {
     "data": {
      "text/plain": [
       "<Axes: xlabel='x7', ylabel='target'>"
      ]
     },
     "execution_count": 122,
     "metadata": {},
     "output_type": "execute_result"
    },
    {
     "data": {
      "image/png": "[encoded data removed]",
      "text/plain": [
       "<Figure size 640x480 with 1 Axes>"
      ]
     },
     "metadata": {},
     "output_type": "display_data"
    }
   ],
   "source": [
    "# x7分组下标签均值\n",
    "sns.barplot(x='x7', y='target', data=train_data)"
   ]
  },
  {
   "cell_type": "markdown",
   "metadata": {},
   "source": [
    "### 检查 x1 - x8 的特征"
   ]
  },
  {
   "cell_type": "code",
   "execution_count": 123,
   "metadata": {},
   "outputs": [
    {
     "data": {
      "text/plain": [
       "array([[<Axes: title={'center': 'x1'}>, <Axes: title={'center': 'x2'}>],\n",
       "       [<Axes: title={'center': 'x3'}>, <Axes: title={'center': 'x4'}>],\n",
       "       [<Axes: title={'center': 'x5'}>, <Axes: title={'center': 'x6'}>],\n",
       "       [<Axes: title={'center': 'x7'}>, <Axes: title={'center': 'x8'}>]],\n",
       "      dtype=object)"
      ]
     },
     "execution_count": 123,
     "metadata": {},
     "output_type": "execute_result"
    },
    {
     "data": {
      "image/png": "[encoded data removed]",
      "text/plain": [
       "<Figure size 1000x1000 with 8 Axes>"
      ]
     },
     "metadata": {},
     "output_type": "display_data"
    }
   ],
   "source": [
    "# x1, 2, 3, 6, 7, 8 应该是分类型变量\n",
    "# x4, 5应该是数值型变量\n",
    "train_data[['x1', 'x2', 'x3', 'x4', 'x5', 'x6', 'x7', 'x8']].hist(layout=(4,2), figsize=(10,10))"
   ]
  },
  {
   "cell_type": "markdown",
   "metadata": {},
   "source": [
    "比较不同 target 下 (0/1) x4, x5 这两个变量的分布特征 -> 好像没什么区别"
   ]
  },
  {
   "cell_type": "code",
   "execution_count": 124,
   "metadata": {},
   "outputs": [
    {
     "data": {
      "text/plain": [
       "<Axes: xlabel='target', ylabel='x4'>"
      ]
     },
     "execution_count": 124,
     "metadata": {},
     "output_type": "execute_result"
    },
    {
     "data": {
      "image/png": "[encoded data removed]",
      "text/plain": [
       "<Figure size 640x480 with 1 Axes>"
      ]
     },
     "metadata": {},
     "output_type": "display_data"
    }
   ],
   "source": [
    "sns.boxplot(data=train_data, x=\"target\", y=\"x4\",\n",
    "            notch=True, showcaps=False,\n",
    "            flierprops={\"marker\": \"x\"},\n",
    "            boxprops={\"facecolor\": (.4, .6, .8, .5)},\n",
    "            medianprops={\"color\": \"coral\"}\n",
    ")"
   ]
  },
  {
   "cell_type": "code",
   "execution_count": 125,
   "metadata": {},
   "outputs": [
    {
     "data": {
      "text/plain": [
       "<Axes: xlabel='target', ylabel='x5'>"
      ]
     },
     "execution_count": 125,
     "metadata": {},
     "output_type": "execute_result"
    },
    {
     "data": {
      "image/png": "[encoded data removed]",
      "text/plain": [
       "<Figure size 640x480 with 1 Axes>"
      ]
     },
     "metadata": {},
     "output_type": "display_data"
    }
   ],
   "source": [
    "sns.boxplot(data=train_data, x=\"target\", y=\"x5\",\n",
    "            notch=True, showcaps=False,\n",
    "            flierprops={\"marker\": \"x\"},\n",
    "            boxprops={\"facecolor\": (.4, .6, .8, .5)},\n",
    "            medianprops={\"color\": \"coral\"}\n",
    ")"
   ]
  },
  {
   "cell_type": "code",
   "execution_count": 126,
   "metadata": {},
   "outputs": [
    {
     "data": {
      "text/html": [
       "<div>\n",
       "<style scoped>\n",
       "    .dataframe tbody tr th:only-of-type {\n",
       "        vertical-align: middle;\n",
       "    }\n",
       "\n",
       "    .dataframe tbody tr th {\n",
       "        vertical-align: top;\n",
       "    }\n",
       "\n",
       "    .dataframe thead th {\n",
       "        text-align: right;\n",
       "    }\n",
       "</style>\n",
       "<table border=\"1\" class=\"dataframe\">\n",
       "  <thead>\n",
       "    <tr style=\"text-align: right;\">\n",
       "      <th></th>\n",
       "      <th>common_ts_hour</th>\n",
       "      <th>common_ts</th>\n",
       "    </tr>\n",
       "  </thead>\n",
       "  <tbody>\n",
       "    <tr>\n",
       "      <th>0</th>\n",
       "      <td>9</td>\n",
       "      <td>2023-07-18 09:44:28.244</td>\n",
       "    </tr>\n",
       "    <tr>\n",
       "      <th>1</th>\n",
       "      <td>13</td>\n",
       "      <td>2023-07-11 13:42:21.469</td>\n",
       "    </tr>\n",
       "    <tr>\n",
       "      <th>2</th>\n",
       "      <td>7</td>\n",
       "      <td>2023-07-15 07:49:53.040</td>\n",
       "    </tr>\n",
       "    <tr>\n",
       "      <th>3</th>\n",
       "      <td>0</td>\n",
       "      <td>2023-07-16 00:36:55.688</td>\n",
       "    </tr>\n",
       "    <tr>\n",
       "      <th>4</th>\n",
       "      <td>7</td>\n",
       "      <td>2023-07-16 07:15:51.442</td>\n",
       "    </tr>\n",
       "  </tbody>\n",
       "</table>\n",
       "</div>"
      ],
      "text/plain": [
       "   common_ts_hour               common_ts\n",
       "0               9 2023-07-18 09:44:28.244\n",
       "1              13 2023-07-11 13:42:21.469\n",
       "2               7 2023-07-15 07:49:53.040\n",
       "3               0 2023-07-16 00:36:55.688\n",
       "4               7 2023-07-16 07:15:51.442"
      ]
     },
     "execution_count": 126,
     "metadata": {},
     "output_type": "execute_result"
    }
   ],
   "source": [
    "# 运行 `df.Series.dt.hour` 之前要先 pd.to_datetime(.., unit='ms') 才能正确执行，unit 要对应，不能瞎选\n",
    "train_data['common_ts'] = pd.to_datetime(train_data['common_ts'], unit='ms')\n",
    "train_data['common_ts_hour'] = train_data['common_ts'].dt.hour\n",
    "train_data[['common_ts_hour', 'common_ts']].head()"
   ]
  },
  {
   "cell_type": "code",
   "execution_count": 127,
   "metadata": {},
   "outputs": [
    {
     "data": {
      "text/plain": [
       "<Axes: xlabel='common_ts_hour', ylabel='target'>"
      ]
     },
     "execution_count": 127,
     "metadata": {},
     "output_type": "execute_result"
    },
    {
     "data": {
      "image/png": "[encoded data removed]",
      "text/plain": [
       "<Figure size 640x480 with 1 Axes>"
      ]
     },
     "metadata": {},
     "output_type": "display_data"
    }
   ],
   "source": [
    "# common_ts_hour分组下标签均值\n",
    "# 16 -> 0 小时的 target 值，特别是从 15-> 到16点，target下降非常明显\n",
    "# target = 0 / 1 分别代表了什么? 是否为新增用户。\n",
    "# 如果 1 == TRUE，0 == FALSE 的话，也就是 16h 至次日0点这个时间段，留下记录的人明显多为非新增用户？\n",
    "sns.barplot(x='common_ts_hour', y='target', data=train_data)"
   ]
  },
  {
   "cell_type": "markdown",
   "metadata": {},
   "source": [
    "### One hot encoding"
   ]
  },
  {
   "cell_type": "code",
   "execution_count": 128,
   "metadata": {},
   "outputs": [],
   "source": [
    "def onehot(d):\n",
    "    v = np.zeros(9)\n",
    "    if d == 'unknown':\n",
    "        return v\n",
    "    \n",
    "    else:\n",
    "        d = eval(d)\n",
    "        for i in range(1,10):\n",
    "            key = 'key' + str(i)\n",
    "            if key in d:\n",
    "                v[i-1] = d[key]\n",
    "        return v\n",
    "\n"
   ]
  },
  {
   "cell_type": "code",
   "execution_count": 129,
   "metadata": {},
   "outputs": [],
   "source": [
    "train_udmap_key = train_data['udmap'].apply(onehot)"
   ]
  },
  {
   "cell_type": "code",
   "execution_count": 130,
   "metadata": {},
   "outputs": [],
   "source": [
    "train_udmap_df = pd.DataFrame(np.vstack(train_udmap_key))"
   ]
  },
  {
   "cell_type": "code",
   "execution_count": 131,
   "metadata": {},
   "outputs": [],
   "source": [
    "train_udmap_df.columns = ['key' + str(i) for i in range(1,10)]"
   ]
  },
  {
   "cell_type": "code",
   "execution_count": 132,
   "metadata": {},
   "outputs": [],
   "source": [
    "train_merged = pd.concat([train_data, train_udmap_df], axis = 1)"
   ]
  },
  {
   "cell_type": "code",
   "execution_count": 133,
   "metadata": {},
   "outputs": [
    {
     "data": {
      "text/html": [
       "<div>\n",
       "<style scoped>\n",
       "    .dataframe tbody tr th:only-of-type {\n",
       "        vertical-align: middle;\n",
       "    }\n",
       "\n",
       "    .dataframe tbody tr th {\n",
       "        vertical-align: top;\n",
       "    }\n",
       "\n",
       "    .dataframe thead th {\n",
       "        text-align: right;\n",
       "    }\n",
       "</style>\n",
       "<table border=\"1\" class=\"dataframe\">\n",
       "  <thead>\n",
       "    <tr style=\"text-align: right;\">\n",
       "      <th></th>\n",
       "      <th>uuid</th>\n",
       "      <th>eid</th>\n",
       "      <th>udmap</th>\n",
       "      <th>common_ts</th>\n",
       "      <th>x1</th>\n",
       "      <th>x2</th>\n",
       "      <th>x3</th>\n",
       "      <th>x4</th>\n",
       "      <th>x5</th>\n",
       "      <th>x6</th>\n",
       "      <th>...</th>\n",
       "      <th>common_ts_hour</th>\n",
       "      <th>key1</th>\n",
       "      <th>key2</th>\n",
       "      <th>key3</th>\n",
       "      <th>key4</th>\n",
       "      <th>key5</th>\n",
       "      <th>key6</th>\n",
       "      <th>key7</th>\n",
       "      <th>key8</th>\n",
       "      <th>key9</th>\n",
       "    </tr>\n",
       "  </thead>\n",
       "  <tbody>\n",
       "    <tr>\n",
       "      <th>0</th>\n",
       "      <td>0</td>\n",
       "      <td>26</td>\n",
       "      <td>{\"key3\":\"67804\",\"key2\":\"650\"}</td>\n",
       "      <td>2023-07-18 09:44:28.244</td>\n",
       "      <td>4</td>\n",
       "      <td>0</td>\n",
       "      <td>41</td>\n",
       "      <td>107</td>\n",
       "      <td>206</td>\n",
       "      <td>1</td>\n",
       "      <td>...</td>\n",
       "      <td>9</td>\n",
       "      <td>0.0</td>\n",
       "      <td>650.0</td>\n",
       "      <td>67804.0</td>\n",
       "      <td>0.0</td>\n",
       "      <td>0.0</td>\n",
       "      <td>0.0</td>\n",
       "      <td>0.0</td>\n",
       "      <td>0.0</td>\n",
       "      <td>0.0</td>\n",
       "    </tr>\n",
       "    <tr>\n",
       "      <th>1</th>\n",
       "      <td>1</td>\n",
       "      <td>26</td>\n",
       "      <td>{\"key3\":\"67804\",\"key2\":\"484\"}</td>\n",
       "      <td>2023-07-11 13:42:21.469</td>\n",
       "      <td>4</td>\n",
       "      <td>0</td>\n",
       "      <td>41</td>\n",
       "      <td>24</td>\n",
       "      <td>283</td>\n",
       "      <td>4</td>\n",
       "      <td>...</td>\n",
       "      <td>13</td>\n",
       "      <td>0.0</td>\n",
       "      <td>484.0</td>\n",
       "      <td>67804.0</td>\n",
       "      <td>0.0</td>\n",
       "      <td>0.0</td>\n",
       "      <td>0.0</td>\n",
       "      <td>0.0</td>\n",
       "      <td>0.0</td>\n",
       "      <td>0.0</td>\n",
       "    </tr>\n",
       "    <tr>\n",
       "      <th>2</th>\n",
       "      <td>2</td>\n",
       "      <td>8</td>\n",
       "      <td>unknown</td>\n",
       "      <td>2023-07-15 07:49:53.040</td>\n",
       "      <td>4</td>\n",
       "      <td>0</td>\n",
       "      <td>41</td>\n",
       "      <td>71</td>\n",
       "      <td>288</td>\n",
       "      <td>4</td>\n",
       "      <td>...</td>\n",
       "      <td>7</td>\n",
       "      <td>0.0</td>\n",
       "      <td>0.0</td>\n",
       "      <td>0.0</td>\n",
       "      <td>0.0</td>\n",
       "      <td>0.0</td>\n",
       "      <td>0.0</td>\n",
       "      <td>0.0</td>\n",
       "      <td>0.0</td>\n",
       "      <td>0.0</td>\n",
       "    </tr>\n",
       "    <tr>\n",
       "      <th>3</th>\n",
       "      <td>3</td>\n",
       "      <td>11</td>\n",
       "      <td>unknown</td>\n",
       "      <td>2023-07-16 00:36:55.688</td>\n",
       "      <td>1</td>\n",
       "      <td>3</td>\n",
       "      <td>41</td>\n",
       "      <td>17</td>\n",
       "      <td>366</td>\n",
       "      <td>1</td>\n",
       "      <td>...</td>\n",
       "      <td>0</td>\n",
       "      <td>0.0</td>\n",
       "      <td>0.0</td>\n",
       "      <td>0.0</td>\n",
       "      <td>0.0</td>\n",
       "      <td>0.0</td>\n",
       "      <td>0.0</td>\n",
       "      <td>0.0</td>\n",
       "      <td>0.0</td>\n",
       "      <td>0.0</td>\n",
       "    </tr>\n",
       "    <tr>\n",
       "      <th>4</th>\n",
       "      <td>4</td>\n",
       "      <td>26</td>\n",
       "      <td>{\"key3\":\"67804\",\"key2\":\"650\"}</td>\n",
       "      <td>2023-07-16 07:15:51.442</td>\n",
       "      <td>0</td>\n",
       "      <td>3</td>\n",
       "      <td>41</td>\n",
       "      <td>92</td>\n",
       "      <td>383</td>\n",
       "      <td>4</td>\n",
       "      <td>...</td>\n",
       "      <td>7</td>\n",
       "      <td>0.0</td>\n",
       "      <td>650.0</td>\n",
       "      <td>67804.0</td>\n",
       "      <td>0.0</td>\n",
       "      <td>0.0</td>\n",
       "      <td>0.0</td>\n",
       "      <td>0.0</td>\n",
       "      <td>0.0</td>\n",
       "      <td>0.0</td>\n",
       "    </tr>\n",
       "    <tr>\n",
       "      <th>...</th>\n",
       "      <td>...</td>\n",
       "      <td>...</td>\n",
       "      <td>...</td>\n",
       "      <td>...</td>\n",
       "      <td>...</td>\n",
       "      <td>...</td>\n",
       "      <td>...</td>\n",
       "      <td>...</td>\n",
       "      <td>...</td>\n",
       "      <td>...</td>\n",
       "      <td>...</td>\n",
       "      <td>...</td>\n",
       "      <td>...</td>\n",
       "      <td>...</td>\n",
       "      <td>...</td>\n",
       "      <td>...</td>\n",
       "      <td>...</td>\n",
       "      <td>...</td>\n",
       "      <td>...</td>\n",
       "      <td>...</td>\n",
       "      <td>...</td>\n",
       "    </tr>\n",
       "    <tr>\n",
       "      <th>620351</th>\n",
       "      <td>620351</td>\n",
       "      <td>2</td>\n",
       "      <td>{\"key4\":\"14\",\"key5\":\"14\"}</td>\n",
       "      <td>2023-07-10 12:07:30.527</td>\n",
       "      <td>4</td>\n",
       "      <td>0</td>\n",
       "      <td>41</td>\n",
       "      <td>104</td>\n",
       "      <td>37</td>\n",
       "      <td>4</td>\n",
       "      <td>...</td>\n",
       "      <td>12</td>\n",
       "      <td>0.0</td>\n",
       "      <td>0.0</td>\n",
       "      <td>0.0</td>\n",
       "      <td>14.0</td>\n",
       "      <td>14.0</td>\n",
       "      <td>0.0</td>\n",
       "      <td>0.0</td>\n",
       "      <td>0.0</td>\n",
       "      <td>0.0</td>\n",
       "    </tr>\n",
       "    <tr>\n",
       "      <th>620352</th>\n",
       "      <td>620352</td>\n",
       "      <td>8</td>\n",
       "      <td>unknown</td>\n",
       "      <td>2023-07-16 06:51:42.305</td>\n",
       "      <td>4</td>\n",
       "      <td>0</td>\n",
       "      <td>41</td>\n",
       "      <td>104</td>\n",
       "      <td>37</td>\n",
       "      <td>1</td>\n",
       "      <td>...</td>\n",
       "      <td>6</td>\n",
       "      <td>0.0</td>\n",
       "      <td>0.0</td>\n",
       "      <td>0.0</td>\n",
       "      <td>0.0</td>\n",
       "      <td>0.0</td>\n",
       "      <td>0.0</td>\n",
       "      <td>0.0</td>\n",
       "      <td>0.0</td>\n",
       "      <td>0.0</td>\n",
       "    </tr>\n",
       "    <tr>\n",
       "      <th>620353</th>\n",
       "      <td>620353</td>\n",
       "      <td>41</td>\n",
       "      <td>{\"key1\":\"274\",\"key2\":\"446\"}</td>\n",
       "      <td>2023-07-09 08:41:18.584</td>\n",
       "      <td>0</td>\n",
       "      <td>2</td>\n",
       "      <td>41</td>\n",
       "      <td>104</td>\n",
       "      <td>37</td>\n",
       "      <td>4</td>\n",
       "      <td>...</td>\n",
       "      <td>8</td>\n",
       "      <td>274.0</td>\n",
       "      <td>446.0</td>\n",
       "      <td>0.0</td>\n",
       "      <td>0.0</td>\n",
       "      <td>0.0</td>\n",
       "      <td>0.0</td>\n",
       "      <td>0.0</td>\n",
       "      <td>0.0</td>\n",
       "      <td>0.0</td>\n",
       "    </tr>\n",
       "    <tr>\n",
       "      <th>620354</th>\n",
       "      <td>620354</td>\n",
       "      <td>26</td>\n",
       "      <td>{\"key3\":\"67804\",\"key2\":\"650\"}</td>\n",
       "      <td>2023-07-18 04:02:40.171</td>\n",
       "      <td>4</td>\n",
       "      <td>0</td>\n",
       "      <td>41</td>\n",
       "      <td>17</td>\n",
       "      <td>366</td>\n",
       "      <td>1</td>\n",
       "      <td>...</td>\n",
       "      <td>4</td>\n",
       "      <td>0.0</td>\n",
       "      <td>650.0</td>\n",
       "      <td>67804.0</td>\n",
       "      <td>0.0</td>\n",
       "      <td>0.0</td>\n",
       "      <td>0.0</td>\n",
       "      <td>0.0</td>\n",
       "      <td>0.0</td>\n",
       "      <td>0.0</td>\n",
       "    </tr>\n",
       "    <tr>\n",
       "      <th>620355</th>\n",
       "      <td>620355</td>\n",
       "      <td>41</td>\n",
       "      <td>{\"key1\":\"1398\",\"key2\":\"289\"}</td>\n",
       "      <td>2023-07-13 08:03:18.023</td>\n",
       "      <td>2</td>\n",
       "      <td>2</td>\n",
       "      <td>41</td>\n",
       "      <td>71</td>\n",
       "      <td>288</td>\n",
       "      <td>4</td>\n",
       "      <td>...</td>\n",
       "      <td>8</td>\n",
       "      <td>1398.0</td>\n",
       "      <td>289.0</td>\n",
       "      <td>0.0</td>\n",
       "      <td>0.0</td>\n",
       "      <td>0.0</td>\n",
       "      <td>0.0</td>\n",
       "      <td>0.0</td>\n",
       "      <td>0.0</td>\n",
       "      <td>0.0</td>\n",
       "    </tr>\n",
       "  </tbody>\n",
       "</table>\n",
       "<p>620356 rows × 23 columns</p>\n",
       "</div>"
      ],
      "text/plain": [
       "          uuid  eid                          udmap               common_ts  \\\n",
       "0            0   26  {\"key3\":\"67804\",\"key2\":\"650\"} 2023-07-18 09:44:28.244   \n",
       "1            1   26  {\"key3\":\"67804\",\"key2\":\"484\"} 2023-07-11 13:42:21.469   \n",
       "2            2    8                        unknown 2023-07-15 07:49:53.040   \n",
       "3            3   11                        unknown 2023-07-16 00:36:55.688   \n",
       "4            4   26  {\"key3\":\"67804\",\"key2\":\"650\"} 2023-07-16 07:15:51.442   \n",
       "...        ...  ...                            ...                     ...   \n",
       "620351  620351    2      {\"key4\":\"14\",\"key5\":\"14\"} 2023-07-10 12:07:30.527   \n",
       "620352  620352    8                        unknown 2023-07-16 06:51:42.305   \n",
       "620353  620353   41    {\"key1\":\"274\",\"key2\":\"446\"} 2023-07-09 08:41:18.584   \n",
       "620354  620354   26  {\"key3\":\"67804\",\"key2\":\"650\"} 2023-07-18 04:02:40.171   \n",
       "620355  620355   41   {\"key1\":\"1398\",\"key2\":\"289\"} 2023-07-13 08:03:18.023   \n",
       "\n",
       "        x1  x2  x3   x4   x5  x6  ...  common_ts_hour    key1   key2     key3  \\\n",
       "0        4   0  41  107  206   1  ...               9     0.0  650.0  67804.0   \n",
       "1        4   0  41   24  283   4  ...              13     0.0  484.0  67804.0   \n",
       "2        4   0  41   71  288   4  ...               7     0.0    0.0      0.0   \n",
       "3        1   3  41   17  366   1  ...               0     0.0    0.0      0.0   \n",
       "4        0   3  41   92  383   4  ...               7     0.0  650.0  67804.0   \n",
       "...     ..  ..  ..  ...  ...  ..  ...             ...     ...    ...      ...   \n",
       "620351   4   0  41  104   37   4  ...              12     0.0    0.0      0.0   \n",
       "620352   4   0  41  104   37   1  ...               6     0.0    0.0      0.0   \n",
       "620353   0   2  41  104   37   4  ...               8   274.0  446.0      0.0   \n",
       "620354   4   0  41   17  366   1  ...               4     0.0  650.0  67804.0   \n",
       "620355   2   2  41   71  288   4  ...               8  1398.0  289.0      0.0   \n",
       "\n",
       "        key4  key5  key6  key7  key8  key9  \n",
       "0        0.0   0.0   0.0   0.0   0.0   0.0  \n",
       "1        0.0   0.0   0.0   0.0   0.0   0.0  \n",
       "2        0.0   0.0   0.0   0.0   0.0   0.0  \n",
       "3        0.0   0.0   0.0   0.0   0.0   0.0  \n",
       "4        0.0   0.0   0.0   0.0   0.0   0.0  \n",
       "...      ...   ...   ...   ...   ...   ...  \n",
       "620351  14.0  14.0   0.0   0.0   0.0   0.0  \n",
       "620352   0.0   0.0   0.0   0.0   0.0   0.0  \n",
       "620353   0.0   0.0   0.0   0.0   0.0   0.0  \n",
       "620354   0.0   0.0   0.0   0.0   0.0   0.0  \n",
       "620355   0.0   0.0   0.0   0.0   0.0   0.0  \n",
       "\n",
       "[620356 rows x 23 columns]"
      ]
     },
     "execution_count": 133,
     "metadata": {},
     "output_type": "execute_result"
    }
   ],
   "source": [
    "train_merged"
   ]
  },
  {
   "cell_type": "code",
   "execution_count": 134,
   "metadata": {},
   "outputs": [
    {
     "data": {
      "text/plain": [
       "key1       64.216487\n",
       "key2      260.316663\n",
       "key3    29757.776830\n",
       "key4        1.450109\n",
       "key5        1.301670\n",
       "key6        6.830705\n",
       "key7        0.000588\n",
       "key8        0.000140\n",
       "key9        0.005660\n",
       "dtype: float64"
      ]
     },
     "execution_count": 134,
     "metadata": {},
     "output_type": "execute_result"
    }
   ],
   "source": [
    "train_merged[['key1','key2','key3','key4','key5','key6','key7','key8', 'key9']].mean()"
   ]
  },
  {
   "cell_type": "code",
   "execution_count": 135,
   "metadata": {},
   "outputs": [
    {
     "data": {
      "text/plain": [
       "<Axes: >"
      ]
     },
     "execution_count": 135,
     "metadata": {},
     "output_type": "execute_result"
    },
    {
     "data": {
      "image/png": "[encoded data removed]",
      "text/plain": [
       "<Figure size 640x480 with 1 Axes>"
      ]
     },
     "metadata": {},
     "output_type": "display_data"
    }
   ],
   "source": [
    "# 直接 plot 均值的话，key3 和其他值的差别太大了\n",
    "train_merged[['key1','key2','key3','key4','key5','key6','key7','key8', 'key9']].mean().plot(kind='bar')\n"
   ]
  },
  {
   "cell_type": "code",
   "execution_count": 136,
   "metadata": {},
   "outputs": [
    {
     "data": {
      "text/plain": [
       "<Axes: >"
      ]
     },
     "execution_count": 136,
     "metadata": {},
     "output_type": "execute_result"
    },
    {
     "data": {
      "image/png": "[encoded data removed]",
      "text/plain": [
       "<Figure size 640x480 with 1 Axes>"
      ]
     },
     "metadata": {},
     "output_type": "display_data"
    }
   ],
   "source": [
    "# 先通过 np.log10 求对数在 plot，相对更容易看一点\n",
    "np.log10(train_merged[['key1','key2','key3','key4','key5','key6','key7','key8', 'key9']].mean()).plot(kind='bar')"
   ]
  },
  {
   "cell_type": "code",
   "execution_count": 137,
   "metadata": {},
   "outputs": [
    {
     "name": "stderr",
     "output_type": "stream",
     "text": [
      "C:\\Users\\ruixuan\\AppData\\Local\\Temp\\ipykernel_8224\\1560578514.py:1: FutureWarning: The default value of numeric_only in DataFrame.corr is deprecated. In a future version, it will default to False. Select only valid columns or specify the value of numeric_only to silence this warning.\n",
      "  sns.heatmap(train_merged.corr().abs(), cmap='YlOrRd')\n"
     ]
    },
    {
     "data": {
      "text/plain": [
       "<Axes: >"
      ]
     },
     "execution_count": 137,
     "metadata": {},
     "output_type": "execute_result"
    },
    {
     "data": {
      "image/png": "[encoded data removed]",
      "text/plain": [
       "<Figure size 640x480 with 2 Axes>"
      ]
     },
     "metadata": {},
     "output_type": "display_data"
    }
   ],
   "source": [
    "sns.heatmap(train_merged.corr().abs(), cmap='YlOrRd')\n",
    "\n",
    "# eid () 和 x7, x8, key4, key 5 的关系可能比较明显\n",
    "# x7,x8 ; key2,key3; key4,key5 之间的相关性比较强。。"
   ]
  },
  {
   "cell_type": "code",
   "execution_count": 138,
   "metadata": {},
   "outputs": [
    {
     "data": {
      "text/html": [
       "<div>\n",
       "<style scoped>\n",
       "    .dataframe tbody tr th:only-of-type {\n",
       "        vertical-align: middle;\n",
       "    }\n",
       "\n",
       "    .dataframe tbody tr th {\n",
       "        vertical-align: top;\n",
       "    }\n",
       "\n",
       "    .dataframe thead th {\n",
       "        text-align: right;\n",
       "    }\n",
       "</style>\n",
       "<table border=\"1\" class=\"dataframe\">\n",
       "  <thead>\n",
       "    <tr style=\"text-align: right;\">\n",
       "      <th></th>\n",
       "      <th>uuid</th>\n",
       "      <th>eid</th>\n",
       "      <th>udmap</th>\n",
       "      <th>common_ts</th>\n",
       "      <th>x1</th>\n",
       "      <th>x2</th>\n",
       "      <th>x3</th>\n",
       "      <th>x4</th>\n",
       "      <th>x5</th>\n",
       "      <th>x6</th>\n",
       "      <th>...</th>\n",
       "      <th>common_ts_hour</th>\n",
       "      <th>key1</th>\n",
       "      <th>key2</th>\n",
       "      <th>key3</th>\n",
       "      <th>key4</th>\n",
       "      <th>key5</th>\n",
       "      <th>key6</th>\n",
       "      <th>key7</th>\n",
       "      <th>key8</th>\n",
       "      <th>key9</th>\n",
       "    </tr>\n",
       "  </thead>\n",
       "  <tbody>\n",
       "    <tr>\n",
       "      <th>0</th>\n",
       "      <td>0</td>\n",
       "      <td>26</td>\n",
       "      <td>{\"key3\":\"67804\",\"key2\":\"650\"}</td>\n",
       "      <td>2023-07-18 09:44:28.244</td>\n",
       "      <td>4</td>\n",
       "      <td>0</td>\n",
       "      <td>41</td>\n",
       "      <td>107</td>\n",
       "      <td>206</td>\n",
       "      <td>1</td>\n",
       "      <td>...</td>\n",
       "      <td>9</td>\n",
       "      <td>0.0</td>\n",
       "      <td>650.0</td>\n",
       "      <td>67804.0</td>\n",
       "      <td>0.0</td>\n",
       "      <td>0.0</td>\n",
       "      <td>0.0</td>\n",
       "      <td>0.0</td>\n",
       "      <td>0.0</td>\n",
       "      <td>0.0</td>\n",
       "    </tr>\n",
       "    <tr>\n",
       "      <th>1</th>\n",
       "      <td>1</td>\n",
       "      <td>26</td>\n",
       "      <td>{\"key3\":\"67804\",\"key2\":\"484\"}</td>\n",
       "      <td>2023-07-11 13:42:21.469</td>\n",
       "      <td>4</td>\n",
       "      <td>0</td>\n",
       "      <td>41</td>\n",
       "      <td>24</td>\n",
       "      <td>283</td>\n",
       "      <td>4</td>\n",
       "      <td>...</td>\n",
       "      <td>13</td>\n",
       "      <td>0.0</td>\n",
       "      <td>484.0</td>\n",
       "      <td>67804.0</td>\n",
       "      <td>0.0</td>\n",
       "      <td>0.0</td>\n",
       "      <td>0.0</td>\n",
       "      <td>0.0</td>\n",
       "      <td>0.0</td>\n",
       "      <td>0.0</td>\n",
       "    </tr>\n",
       "    <tr>\n",
       "      <th>2</th>\n",
       "      <td>2</td>\n",
       "      <td>8</td>\n",
       "      <td>unknown</td>\n",
       "      <td>2023-07-15 07:49:53.040</td>\n",
       "      <td>4</td>\n",
       "      <td>0</td>\n",
       "      <td>41</td>\n",
       "      <td>71</td>\n",
       "      <td>288</td>\n",
       "      <td>4</td>\n",
       "      <td>...</td>\n",
       "      <td>7</td>\n",
       "      <td>0.0</td>\n",
       "      <td>0.0</td>\n",
       "      <td>0.0</td>\n",
       "      <td>0.0</td>\n",
       "      <td>0.0</td>\n",
       "      <td>0.0</td>\n",
       "      <td>0.0</td>\n",
       "      <td>0.0</td>\n",
       "      <td>0.0</td>\n",
       "    </tr>\n",
       "    <tr>\n",
       "      <th>3</th>\n",
       "      <td>3</td>\n",
       "      <td>11</td>\n",
       "      <td>unknown</td>\n",
       "      <td>2023-07-16 00:36:55.688</td>\n",
       "      <td>1</td>\n",
       "      <td>3</td>\n",
       "      <td>41</td>\n",
       "      <td>17</td>\n",
       "      <td>366</td>\n",
       "      <td>1</td>\n",
       "      <td>...</td>\n",
       "      <td>0</td>\n",
       "      <td>0.0</td>\n",
       "      <td>0.0</td>\n",
       "      <td>0.0</td>\n",
       "      <td>0.0</td>\n",
       "      <td>0.0</td>\n",
       "      <td>0.0</td>\n",
       "      <td>0.0</td>\n",
       "      <td>0.0</td>\n",
       "      <td>0.0</td>\n",
       "    </tr>\n",
       "    <tr>\n",
       "      <th>4</th>\n",
       "      <td>4</td>\n",
       "      <td>26</td>\n",
       "      <td>{\"key3\":\"67804\",\"key2\":\"650\"}</td>\n",
       "      <td>2023-07-16 07:15:51.442</td>\n",
       "      <td>0</td>\n",
       "      <td>3</td>\n",
       "      <td>41</td>\n",
       "      <td>92</td>\n",
       "      <td>383</td>\n",
       "      <td>4</td>\n",
       "      <td>...</td>\n",
       "      <td>7</td>\n",
       "      <td>0.0</td>\n",
       "      <td>650.0</td>\n",
       "      <td>67804.0</td>\n",
       "      <td>0.0</td>\n",
       "      <td>0.0</td>\n",
       "      <td>0.0</td>\n",
       "      <td>0.0</td>\n",
       "      <td>0.0</td>\n",
       "      <td>0.0</td>\n",
       "    </tr>\n",
       "  </tbody>\n",
       "</table>\n",
       "<p>5 rows × 23 columns</p>\n",
       "</div>"
      ],
      "text/plain": [
       "   uuid  eid                          udmap               common_ts  x1  x2  \\\n",
       "0     0   26  {\"key3\":\"67804\",\"key2\":\"650\"} 2023-07-18 09:44:28.244   4   0   \n",
       "1     1   26  {\"key3\":\"67804\",\"key2\":\"484\"} 2023-07-11 13:42:21.469   4   0   \n",
       "2     2    8                        unknown 2023-07-15 07:49:53.040   4   0   \n",
       "3     3   11                        unknown 2023-07-16 00:36:55.688   1   3   \n",
       "4     4   26  {\"key3\":\"67804\",\"key2\":\"650\"} 2023-07-16 07:15:51.442   0   3   \n",
       "\n",
       "   x3   x4   x5  x6  ...  common_ts_hour  key1   key2     key3  key4  key5  \\\n",
       "0  41  107  206   1  ...               9   0.0  650.0  67804.0   0.0   0.0   \n",
       "1  41   24  283   4  ...              13   0.0  484.0  67804.0   0.0   0.0   \n",
       "2  41   71  288   4  ...               7   0.0    0.0      0.0   0.0   0.0   \n",
       "3  41   17  366   1  ...               0   0.0    0.0      0.0   0.0   0.0   \n",
       "4  41   92  383   4  ...               7   0.0  650.0  67804.0   0.0   0.0   \n",
       "\n",
       "   key6  key7  key8  key9  \n",
       "0   0.0   0.0   0.0   0.0  \n",
       "1   0.0   0.0   0.0   0.0  \n",
       "2   0.0   0.0   0.0   0.0  \n",
       "3   0.0   0.0   0.0   0.0  \n",
       "4   0.0   0.0   0.0   0.0  \n",
       "\n",
       "[5 rows x 23 columns]"
      ]
     },
     "execution_count": 138,
     "metadata": {},
     "output_type": "execute_result"
    }
   ],
   "source": [
    "train_merged.head()"
   ]
  },
  {
   "cell_type": "markdown",
   "metadata": {},
   "source": [
    "## 小结"
   ]
  },
  {
   "cell_type": "markdown",
   "metadata": {},
   "source": [
    "1. x4, x5 似乎是数值型变量，这两个变量的分布和 target 的分类关系好像不大\n",
    "2. correlation heatmap 显示变量之间的相关性不是很强，这是个好事，至少一定程度上说明没有 variable 之间的 colinearity，但是这些变量和 target 的值关系不是很明显\n",
    "3. common_ts 这个时间戳在转换格式后似乎和 target 更有关系了\n",
    "4. 不同的 key , x1-x8 这些数值取值差异很大，后续需要 normalization，尽量减小巨大数字对模型的影响\n"
   ]
  },
  {
   "cell_type": "code",
   "execution_count": null,
   "metadata": {},
   "outputs": [],
   "source": []
  }
 ],
 "metadata": {
  "kernelspec": {
   "display_name": "Python 3",
   "language": "python",
   "name": "python3"
  },
  "language_info": {
   "codemirror_mode": {
    "name": "ipython",
    "version": 3
   },
   "file_extension": ".py",
   "mimetype": "text/x-python",
   "name": "python",
   "nbconvert_exporter": "python",
   "pygments_lexer": "ipython3",
   "version": "3.9.16"
  },
  "orig_nbformat": 4
 },
 "nbformat": 4,
 "nbformat_minor": 2
}
